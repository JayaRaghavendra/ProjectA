{
  "nbformat": 4,
  "nbformat_minor": 0,
  "metadata": {
    "colab": {
      "provenance": [],
      "include_colab_link": true
    },
    "kernelspec": {
      "name": "python3",
      "display_name": "Python 3"
    },
    "language_info": {
      "name": "python"
    }
  },
  "cells": [
    {
      "cell_type": "markdown",
      "metadata": {
        "id": "view-in-github",
        "colab_type": "text"
      },
      "source": [
        "<a href=\"https://colab.research.google.com/github/JayaRaghavendra/ProjectA/blob/master/scrape_reviews_from_playstore.ipynb\" target=\"_parent\"><img src=\"https://colab.research.google.com/assets/colab-badge.svg\" alt=\"Open In Colab\"/></a>"
      ]
    },
    {
      "cell_type": "code",
      "execution_count": null,
      "metadata": {
        "colab": {
          "base_uri": "https://localhost:8080/"
        },
        "id": "Z0ekIXlW7m3X",
        "outputId": "ff672bc0-81ac-4af9-e713-781964502551"
      },
      "outputs": [
        {
          "output_type": "stream",
          "name": "stdout",
          "text": [
            "Collecting google-play-scraper\n",
            "  Downloading google_play_scraper-1.2.6-py3-none-any.whl (28 kB)\n",
            "Installing collected packages: google-play-scraper\n",
            "Successfully installed google-play-scraper-1.2.6\n"
          ]
        }
      ],
      "source": [
        "!pip install google-play-scraper\n"
      ]
    },
    {
      "cell_type": "code",
      "source": [
        "import pandas as pd\n",
        "\n",
        "\n",
        "app_package = 'com.zerodha.kite3'"
      ],
      "metadata": {
        "id": "-nDrF7O97064"
      },
      "execution_count": null,
      "outputs": []
    },
    {
      "cell_type": "code",
      "source": [
        "from google_play_scraper import Sort, reviews\n",
        "total_count = 100000\n",
        "current_count = 0\n",
        "reviws_100k = []\n",
        "fetch_limit_per_req = 50\n",
        "while current_count < total_count:\n",
        "  result, continuation_token = reviews(\n",
        "      app_package,\n",
        "      lang='en', # defaults to 'en'\n",
        "      country='us', # defaults to 'us'\n",
        "      sort=Sort.NEWEST, # defaults to Sort.NEWEST\n",
        "      count=fetch_limit_per_req, # defaults to 100\n",
        "      # filter_score_with=5 # defaults to None(means all score)\n",
        "  )\n",
        "  reviws_100k  = [*reviws_100k, *result]\n",
        "  current_count += len(result)\n",
        "  if (len(result) < fetch_limit_per_req):\n",
        "    break"
      ],
      "metadata": {
        "id": "RZohu4r68DaP"
      },
      "execution_count": null,
      "outputs": []
    },
    {
      "cell_type": "code",
      "source": [
        "len(reviws_100k)"
      ],
      "metadata": {
        "colab": {
          "base_uri": "https://localhost:8080/"
        },
        "id": "vffbjGCVAgZy",
        "outputId": "7ed767f1-666f-44ac-f075-39bb55de2c10"
      },
      "execution_count": null,
      "outputs": [
        {
          "output_type": "execute_result",
          "data": {
            "text/plain": [
              "100000"
            ]
          },
          "metadata": {},
          "execution_count": 30
        }
      ]
    },
    {
      "cell_type": "code",
      "source": [
        "df = pd.DataFrame(reviws_100k)\n",
        "df.to_csv('zerodha.csv')"
      ],
      "metadata": {
        "id": "3BG7ayWIAh6a"
      },
      "execution_count": null,
      "outputs": []
    },
    {
      "cell_type": "code",
      "source": [],
      "metadata": {
        "id": "F6M9l26FA6LU"
      },
      "execution_count": null,
      "outputs": []
    }
  ]
}